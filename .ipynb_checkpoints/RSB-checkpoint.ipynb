{
 "cells": [
  {
   "cell_type": "code",
   "execution_count": 1,
   "metadata": {},
   "outputs": [],
   "source": [
    "import matplotlib.pyplot as plt\n",
    "import numpy as np\n",
    "import random as rnd\n",
    "import math as m\n",
    "import pandas as pd\n",
    "import scipy.stats as stat\n",
    "import scipy.optimize as opt\n",
    "import seaborn as sb\n",
    "from scipy.integrate import quad\n",
    "from scipy.integrate import dblquad\n",
    "from scipy.special import comb\n",
    "from sklearn.linear_model import LinearRegression\n",
    "plt.style.use('ggplot')\n",
    "\n",
    "my_norm = lambda exp, disp: stat.norm(loc = exp, scale = m.sqrt(disp))\n",
    "from mpmath import mp\n",
    "#from mpmath import e"
   ]
  },
  {
   "cell_type": "code",
   "execution_count": null,
   "metadata": {},
   "outputs": [],
   "source": []
  },
  {
   "cell_type": "code",
   "execution_count": 2,
   "metadata": {},
   "outputs": [],
   "source": [
    "#import io\n",
    "f = open(\"data.txt\", mode=\"r\", encoding=\"utf-8\")"
   ]
  },
  {
   "cell_type": "markdown",
   "metadata": {},
   "source": [
    "##### Сначала разбиваем на серии"
   ]
  },
  {
   "cell_type": "code",
   "execution_count": 3,
   "metadata": {},
   "outputs": [],
   "source": [
    "def get_num(sym):\n",
    "    sym = sym.lower()\n",
    "    if sym == 'к':\n",
    "        return 0;\n",
    "    if sym == 'н':\n",
    "        return 1;\n",
    "    if sym == 'б':\n",
    "        return 2"
   ]
  },
  {
   "cell_type": "code",
   "execution_count": 4,
   "metadata": {
    "scrolled": true
   },
   "outputs": [],
   "source": [
    "counter = 0;\n",
    "series = []\n",
    "with open('data.txt', mode = 'r', encoding = 'UTF-8') as f:\n",
    "    for line in f:\n",
    "        if (len(line) > 6):\n",
    "            series.append([])\n",
    "        else:\n",
    "            series[-1].append((get_num(line[0]), get_num(line[2])))\n",
    "        counter += 1"
   ]
  },
  {
   "cell_type": "markdown",
   "metadata": {},
   "source": [
    "##### Далее получаем матрицу переходов"
   ]
  },
  {
   "cell_type": "code",
   "execution_count": 5,
   "metadata": {},
   "outputs": [],
   "source": [
    "P1 = np.zeros((9,3))"
   ]
  },
  {
   "cell_type": "code",
   "execution_count": 6,
   "metadata": {},
   "outputs": [
    {
     "data": {
      "text/plain": [
       "array([[ 7., 14., 11.],\n",
       "       [11., 15., 23.],\n",
       "       [ 9., 15., 10.],\n",
       "       [14., 14., 21.],\n",
       "       [12.,  8., 10.],\n",
       "       [22.,  9., 14.],\n",
       "       [13., 13.,  8.],\n",
       "       [11., 18., 16.],\n",
       "       [17., 18., 15.]])"
      ]
     },
     "execution_count": 6,
     "metadata": {},
     "output_type": "execute_result"
    }
   ],
   "source": [
    "P1 = np.zeros((9,3))\n",
    "for ser in series:\n",
    "    for i in range(1, len(ser)):\n",
    "        P1[ser[i-1][0] * 3 + ser[i-1][1]][ser[i][0]] += 1;\n",
    "        P1[ser[i-1][0] + ser[i-1][1] * 3][ser[i][1]] += 1;\n",
    "        \n",
    "P1"
   ]
  },
  {
   "cell_type": "code",
   "execution_count": 7,
   "metadata": {},
   "outputs": [
    {
     "data": {
      "text/plain": [
       "array([[0.22, 0.44, 0.34],\n",
       "       [0.22, 0.31, 0.47],\n",
       "       [0.26, 0.44, 0.29],\n",
       "       [0.29, 0.29, 0.43],\n",
       "       [0.4 , 0.27, 0.33],\n",
       "       [0.49, 0.2 , 0.31],\n",
       "       [0.38, 0.38, 0.24],\n",
       "       [0.24, 0.4 , 0.36],\n",
       "       [0.34, 0.36, 0.3 ]])"
      ]
     },
     "execution_count": 7,
     "metadata": {},
     "output_type": "execute_result"
    }
   ],
   "source": [
    "P = np.copy(P1)\n",
    "P = P.astype(float)\n",
    "for i in range(9):\n",
    "    P[i] = P[i] / np.sum(P[i])\n",
    "\n",
    "#P = np.vstack((P, [1/3,1/3,1/3]))\n",
    "np.round(P,2)"
   ]
  },
  {
   "cell_type": "code",
   "execution_count": 8,
   "metadata": {},
   "outputs": [],
   "source": [
    "def ideal_player(prev_turn):\n",
    "    opponent_exp = list(stat.multinomial(1, P[prev_turn[0] + 3 * prev_turn[1], :]).rvs()[0]).index(1)\n",
    "    return (opponent_exp - 1) % 3\n",
    "def my_player(prev_turn):\n",
    "    opponent_exp = list(P[prev_turn[0] + 3 * prev_turn[1], :]).index(np.max(P[prev_turn[0] + 3 * prev_turn[1], :]))\n",
    "    return (opponent_exp - 1) % 3"
   ]
  },
  {
   "cell_type": "markdown",
   "metadata": {},
   "source": [
    "##### Он и правда обыгрывает людей на нашей выборке\n",
    "Причем как \"первого\", так и \"второго\"."
   ]
  },
  {
   "cell_type": "code",
   "execution_count": 9,
   "metadata": {},
   "outputs": [
    {
     "name": "stdout",
     "output_type": "stream",
     "text": [
      "81.0\n",
      "55.0\n"
     ]
    }
   ],
   "source": [
    "wins = 0; loses = 0;\n",
    "for i in range(500):\n",
    "    for ser in series:\n",
    "        for i in range(1, len(ser)):\n",
    "            if (my_player(ser[i-1]) - ser[i][1]) % 3 == 1:\n",
    "                loses += 1\n",
    "            if (my_player(ser[i-1]) - ser[i][1]) % 3 == 2:\n",
    "                wins += 1\n",
    "\n",
    "                \n",
    "print(wins/500);print(loses/500)"
   ]
  },
  {
   "cell_type": "code",
   "execution_count": 10,
   "metadata": {},
   "outputs": [
    {
     "name": "stdout",
     "output_type": "stream",
     "text": [
      "75.0\n",
      "52.0\n"
     ]
    }
   ],
   "source": [
    "wins = 0; loses = 0; n = 500\n",
    "for i in range(n):\n",
    "    for ser in series:\n",
    "        for i in range(1, len(ser)):\n",
    "            if (my_player(ser[i-1][::-1]) - ser[i][0]) % 3 == 1:\n",
    "                loses += 1\n",
    "            if (my_player(ser[i-1][::-1]) - ser[i][0]) % 3 == 2:\n",
    "                wins += 1\n",
    "\n",
    "                \n",
    "print(wins/n);print(loses/n)"
   ]
  },
  {
   "cell_type": "code",
   "execution_count": 11,
   "metadata": {},
   "outputs": [
    {
     "name": "stdout",
     "output_type": "stream",
     "text": [
      "63.996\n",
      "58.976\n"
     ]
    }
   ],
   "source": [
    "wins = 0; loses = 0;\n",
    "for i in range(500):\n",
    "    for ser in series:\n",
    "        for i in range(1, len(ser)):\n",
    "            if (ideal_player(ser[i-1]) - ser[i][1]) % 3 == 1:\n",
    "                loses += 1\n",
    "            if (ideal_player(ser[i-1]) - ser[i][1]) % 3 == 2:\n",
    "                wins += 1\n",
    "\n",
    "                \n",
    "print(wins/500);print(loses/500)"
   ]
  },
  {
   "cell_type": "code",
   "execution_count": 12,
   "metadata": {},
   "outputs": [
    {
     "name": "stdout",
     "output_type": "stream",
     "text": [
      "65.428\n",
      "59.632\n"
     ]
    }
   ],
   "source": [
    "wins = 0; loses = 0; n = 500\n",
    "for i in range(n):\n",
    "    for ser in series:\n",
    "        for i in range(1, len(ser)):\n",
    "            if (ideal_player(ser[i-1][::-1]) - ser[i][0]) % 3 == 1:\n",
    "                loses += 1\n",
    "            if (ideal_player(ser[i-1][::-1]) - ser[i][0]) % 3 == 2:\n",
    "                wins += 1\n",
    "\n",
    "                \n",
    "print(wins/n);print(loses/n)"
   ]
  },
  {
   "cell_type": "markdown",
   "metadata": {},
   "source": [
    "##### Бот на основе такой ЦМ"
   ]
  },
  {
   "cell_type": "code",
   "execution_count": 13,
   "metadata": {},
   "outputs": [],
   "source": [
    "def get_letter(num):\n",
    "    if num == 0:\n",
    "        return 'камень';\n",
    "    if num == 1:\n",
    "        return 'ножницы';\n",
    "    if num == 2:\n",
    "        return 'бумагу'"
   ]
  },
  {
   "cell_type": "code",
   "execution_count": 14,
   "metadata": {},
   "outputs": [
    {
     "name": "stdout",
     "output_type": "stream",
     "text": [
      "Введите к, н или б\n",
      "к\n",
      "Бот показал бумагу; Вы проиграли\n",
      "Введите к, н или б\n",
      "к\n",
      "Бот показал камень; Ничья!\n",
      "к\n",
      "Бот показал камень; Ничья!\n",
      "к\n",
      "Бот показал бумагу; Вы проиграли\n",
      "\n",
      "Неверный ввод, попробуйте еще раз\n",
      "к\n",
      "Бот показал камень; Ничья!\n",
      "к\n",
      "Бот показал камень; Ничья!\n",
      "к\n",
      "Бот показал ножницы; Вы выиграли!\n",
      "к\n",
      "Бот показал ножницы; Вы выиграли!\n",
      "к\n",
      "Бот показал бумагу; Вы проиграли\n",
      "к\n",
      "Бот показал камень; Ничья!\n",
      "\n",
      "Неверный ввод, попробуйте еще раз\n",
      "к\n",
      "Бот показал ножницы; Вы выиграли!\n",
      "к\n",
      "Бот показал ножницы; Вы выиграли!\n",
      "к\n",
      "Бот показал бумагу; Вы проиграли\n",
      "к\n",
      "Бот показал бумагу; Вы проиграли\n",
      "к\n",
      "Бот показал ножницы; Вы выиграли!\n",
      "к\n",
      "Бот показал ножницы; Вы выиграли!\n",
      "кк\n",
      "Неверный ввод, попробуйте еще раз\n",
      "к\n",
      "Бот показал бумагу; Вы проиграли\n",
      "к\n",
      "Бот показал бумагу; Вы проиграли\n",
      "к\n",
      "Бот показал бумагу; Вы проиграли\n",
      "к\n",
      "Бот показал ножницы; Вы выиграли!\n",
      "к\n",
      "Бот показал ножницы; Вы выиграли!\n",
      "к\n",
      "Бот показал камень; Ничья!\n",
      "к\n",
      "Бот показал камень; Ничья!\n",
      "к\n",
      "Бот показал ножницы; Вы выиграли!\n",
      "к\n",
      "Бот показал ножницы; Вы выиграли!\n",
      "к\n",
      "Бот показал ножницы; Вы выиграли!\n",
      "к\n",
      "Бот показал бумагу; Вы проиграли\n",
      "к\n",
      "Бот показал камень; Ничья!\n",
      "к\n",
      "Бот показал камень; Ничья!\n",
      "к\n",
      "Бот показал камень; Ничья!\n",
      "к\n",
      "Бот показал камень; Ничья!\n",
      "к\n",
      "Бот показал камень; Ничья!\n",
      "к\n",
      "Бот показал камень; Ничья!\n",
      "к\n",
      "Бот показал бумагу; Вы проиграли\n",
      "к\n",
      "Бот показал камень; Ничья!\n",
      "к\n",
      "Бот показал бумагу; Вы проиграли\n",
      "к\n",
      "Бот показал ножницы; Вы выиграли!\n",
      "к\n",
      "Бот показал ножницы; Вы выиграли!\n",
      "к\n",
      "Бот показал ножницы; Вы выиграли!\n",
      "к\n",
      "Бот показал ножницы; Вы выиграли!\n",
      "к\n",
      "Бот показал ножницы; Вы выиграли!\n",
      "к\n",
      "Бот показал камень; Ничья!\n",
      "Побед: 16 Поражений: 11\n"
     ]
    }
   ],
   "source": [
    "print('Введите к, н или б'); wins = 0; loses = 0;games = 0;\n",
    "\n",
    "bot_turn = list(stat.multinomial(1, [1/3,1/3,1/3]).rvs()[0]).index(1)\n",
    "A = get_num(input().split()[0])\n",
    "print(\"Бот показал\", get_letter(bot_turn), end = '; ')\n",
    "\n",
    "if ((A - bot_turn) % 3 == 1):\n",
    "    loses += 1;\n",
    "    print(\"Вы проиграли\")\n",
    "\n",
    "if ((A - bot_turn) % 3 == 2):\n",
    "    wins += 1;\n",
    "    print(\"Вы выиграли!\")\n",
    "    \n",
    "if ((A - bot_turn) % 3 == 0):\n",
    "    print(\"Ничья!\")\n",
    "\n",
    "pr_turn = (bot_turn, A)\n",
    "print('Введите к, н или б')\n",
    "while games < 41:\n",
    "    bot_turn = ideal_player(pr_turn)\n",
    "    A =  input().split()\n",
    "    \n",
    "    if (len(A) > 1 or not A):\n",
    "        print('Неверный ввод, попробуйте еще раз')\n",
    "        continue\n",
    "    if not (A[0] =='к' or A[0] == 'н' or A[0] == 'б'):\n",
    "        print('Неверный ввод, попробуйте еще раз')\n",
    "        continue\n",
    "        \n",
    "    A = get_num(A[0])\n",
    "    \n",
    "    print(\"Бот показал\", get_letter(bot_turn), end = '; ')\n",
    "    if ((A - bot_turn) % 3 == 1):\n",
    "        loses += 1;\n",
    "        print(\"Вы проиграли\")\n",
    "\n",
    "    if ((A - bot_turn) % 3 == 2):\n",
    "        wins += 1;\n",
    "        print(\"Вы выиграли!\")\n",
    "\n",
    "    if ((A - bot_turn) % 3 == 0):\n",
    "        print(\"Ничья!\")\n",
    "\n",
    "    pr_turn = (bot_turn, A)\n",
    "    games += 1\n",
    "    \n",
    "print('Побед:', wins, 'Поражений:', loses)"
   ]
  },
  {
   "cell_type": "markdown",
   "metadata": {},
   "source": [
    "##### Менее словоохотливая версия бота:\n",
    "С помощью нее можно было бы дополнить нашу выборку"
   ]
  },
  {
   "cell_type": "code",
   "execution_count": 16,
   "metadata": {},
   "outputs": [
    {
     "name": "stdout",
     "output_type": "stream",
     "text": [
      "Введите к, н или б\n",
      "к\n",
      "б\n",
      "\n",
      "к\n",
      "к\n",
      "\n",
      "к\n",
      "к\n",
      "\n",
      "к\n",
      "б\n",
      "\n",
      "к\n",
      "к\n",
      "\n",
      "\n",
      "Неверный ввод, попробуйте еще раз\n",
      "к\n",
      "к\n",
      "\n",
      "к\n",
      "к\n",
      "\n",
      "к\n",
      "н\n",
      "\n",
      "к\n",
      "к\n",
      "\n",
      "к\n",
      "н\n",
      "\n",
      "к\n",
      "к\n",
      "\n",
      "к\n",
      "к\n",
      "\n",
      "к\n",
      "к\n",
      "\n",
      "к\n",
      "к\n",
      "\n",
      "к\n",
      "н\n",
      "\n",
      "к\n",
      "б\n",
      "\n",
      "к\n",
      "к\n",
      "\n",
      "к\n",
      "н\n",
      "\n",
      "к\n",
      "н\n",
      "\n",
      "к\n",
      "к\n",
      "\n",
      "к\n",
      "н\n",
      "\n",
      "к\n",
      "к\n",
      "\n",
      "к\n",
      "н\n",
      "\n",
      "к\n",
      "к\n",
      "\n",
      "к\n",
      "к\n",
      "\n",
      "к\n",
      "к\n",
      "\n",
      "к\n",
      "н\n",
      "\n",
      "к\n",
      "н\n",
      "\n",
      "к\n",
      "н\n",
      "\n",
      "к\n",
      "н\n",
      "\n",
      "к\n",
      "н\n",
      "\n",
      "к\n",
      "б\n",
      "\n",
      "к\n",
      "к\n",
      "\n",
      "к\n",
      "к\n",
      "\n",
      "к\n",
      "б\n",
      "\n",
      "к\n",
      "к\n",
      "\n",
      "к\n",
      "к\n",
      "\n",
      "к\n",
      "к\n",
      "\n",
      "к\n",
      "к\n",
      "\n",
      "к\n",
      "к\n",
      "\n",
      "к\n",
      "б\n",
      "\n",
      "к\n",
      "н\n",
      "\n",
      "Побед: 13 Поражений: 6\n"
     ]
    }
   ],
   "source": [
    "print('Введите к, н или б'); wins = 0; loses = 0;games = 0;\n",
    "\n",
    "bot_turn = list(stat.multinomial(1, [1/3,1/3,1/3]).rvs()[0]).index(1)\n",
    "A = get_num(input().split()[0])\n",
    "print(get_letter(bot_turn)[0]+'\\n')\n",
    "\n",
    "if ((A - bot_turn) % 3 == 1):\n",
    "    loses += 1;\n",
    "    #print(\"Вы проиграли\")\n",
    "\n",
    "if ((A - bot_turn) % 3 == 2):\n",
    "    wins += 1;\n",
    "    #print(\"Вы выиграли!\")\n",
    "    \n",
    "\n",
    "pr_turn = (bot_turn, A)\n",
    "while games < 41:\n",
    "    bot_turn = ideal_player(pr_turn)\n",
    "    A =  input().split()\n",
    "    \n",
    "    if (len(A) > 1 or not A):\n",
    "        print('Неверный ввод, попробуйте еще раз')\n",
    "        continue\n",
    "    if not (A[0] =='к' or A[0] == 'н' or A[0] == 'б'):\n",
    "        print('Неверный ввод, попробуйте еще раз')\n",
    "        continue\n",
    "        \n",
    "    A = get_num(A[0])\n",
    "    \n",
    "    print( get_letter(bot_turn)[0]+'\\n')\n",
    "    if ((A - bot_turn) % 3 == 1):\n",
    "        loses += 1;\n",
    "        #print(\"Вы проиграли\")\n",
    "\n",
    "    if ((A - bot_turn) % 3 == 2):\n",
    "        wins += 1;\n",
    "        #print(\"Вы выиграли!\")\n",
    "\n",
    "    pr_turn = (bot_turn, A)\n",
    "    games += 1\n",
    "    \n",
    "print('Побед:', wins, 'Поражений:', loses)"
   ]
  },
  {
   "cell_type": "markdown",
   "metadata": {},
   "source": [
    "У меня получилось 12 побед на 14 поражений.\n",
    "\n",
    "У Идалии: 17-14, 13-20, 14-13, 15-9, 11-15. Сумма 70 - 71."
   ]
  },
  {
   "cell_type": "markdown",
   "metadata": {},
   "source": [
    "###### Это детерминированный бот, основанный на нашей выборке"
   ]
  },
  {
   "cell_type": "code",
   "execution_count": null,
   "metadata": {},
   "outputs": [],
   "source": [
    "print('Введите к, н или б'); wins = 0; loses = 0;games = 0;\n",
    "\n",
    "bot_turn = list(stat.multinomial(1, [1/3,1/3,1/3]).rvs()[0]).index(1)\n",
    "A = get_num(input().split()[0])\n",
    "print(\"Бот показал\", get_letter(bot_turn), end = '; ')\n",
    "\n",
    "if ((A - bot_turn) % 3 == 1):\n",
    "    loses += 1;\n",
    "    print(\"Вы проиграли\")\n",
    "\n",
    "if ((A - bot_turn) % 3 == 2):\n",
    "    wins += 1;\n",
    "    print(\"Вы выиграли!\")\n",
    "    \n",
    "if ((A - bot_turn) % 3 == 0):\n",
    "    print(\"Ничья!\")\n",
    "\n",
    "pr_turn = (bot_turn, A)\n",
    "print('Введите к, н или б')\n",
    "while games < 41:\n",
    "    bot_turn = my_player(pr_turn)\n",
    "    A =  input().split()\n",
    "    \n",
    "    if (len(A) > 1 or not A):\n",
    "        print('Неверный ввод, попробуйте еще раз')\n",
    "        continue\n",
    "    if not (A[0] =='к' or A[0] == 'н' or A[0] == 'б'):\n",
    "        print('Неверный ввод, попробуйте еще раз')\n",
    "        continue\n",
    "        \n",
    "    A = get_num(A[0])\n",
    "    \n",
    "    print(\"Бот показал\", get_letter(bot_turn), end = '; ')\n",
    "    if ((A - bot_turn) % 3 == 1):\n",
    "        loses += 1;\n",
    "        print(\"Вы проиграли\")\n",
    "\n",
    "    if ((A - bot_turn) % 3 == 2):\n",
    "        wins += 1;\n",
    "        print(\"Вы выиграли!\")\n",
    "\n",
    "    if ((A - bot_turn) % 3 == 0):\n",
    "        print(\"Ничья!\")\n",
    "\n",
    "    pr_turn = (bot_turn, A)\n",
    "    games += 1\n",
    "    \n",
    "print('Побед:', wins, 'Поражений:', loses)"
   ]
  },
  {
   "cell_type": "code",
   "execution_count": null,
   "metadata": {},
   "outputs": [],
   "source": [
    "#------------------------------------------------------------------------------------------"
   ]
  },
  {
   "cell_type": "markdown",
   "metadata": {},
   "source": [
    "https://lifehacker.ru/kak-vsegda-vyigryvat-v-kamen-nozhnicy-bumaga/ рекомедует детерминированную стратегию:"
   ]
  },
  {
   "cell_type": "markdown",
   "metadata": {},
   "source": [
    "Все еще не до конца понятно? Вот какие выигрышные стратегии помогут вам оставаться непобедимыми:\n",
    "\n",
    "###### Если вы победили в последней игре…\n",
    "…выкинув камень, переходите к ножницам в следующей схватке\n",
    "\n",
    "…выкинув ножницы, переходите к бумаге в следующей схватке\n",
    "\n",
    "…выкинув бумагу, переходите к камню в следующей схватке\n",
    "###### Если вы проиграли в последней игре (и противник не в курсе этой методики)…\n",
    "…выкинув камень, переходите к ножницам в следующей схватке\n",
    "\n",
    "…выкинув ножницы, переходите к бумаге в следующей схватке\n",
    "\n",
    "…выкинув бумагу, переходите к камню в следующей схватке"
   ]
  },
  {
   "cell_type": "code",
   "execution_count": 17,
   "metadata": {},
   "outputs": [],
   "source": [
    "def lihack(prev_turn):\n",
    "    if (prev_turn[0] == prev_turn[1]):\n",
    "        return list(stat.multinomial(1, [1/3, 1/3, 1/3]).rvs()[0]).index(1)\n",
    "    return (prev_turn[0] + 1) %3"
   ]
  },
  {
   "cell_type": "code",
   "execution_count": 18,
   "metadata": {},
   "outputs": [
    {
     "name": "stdout",
     "output_type": "stream",
     "text": [
      "59.704\n",
      "60.678\n"
     ]
    }
   ],
   "source": [
    "wins = 0; loses = 0;\n",
    "n = 500\n",
    "for i in range(n):\n",
    "    for ser in series:\n",
    "        for i in range(1, len(ser)):\n",
    "            if (lihack(ser[i-1]) - ser[i][1]) % 3 == 1:\n",
    "                loses += 1\n",
    "            if (lihack(ser[i-1]) - ser[i][1]) % 3 == 2:\n",
    "                wins += 1\n",
    "                \n",
    "print(wins/n);print(loses/n)"
   ]
  },
  {
   "cell_type": "code",
   "execution_count": 19,
   "metadata": {},
   "outputs": [
    {
     "name": "stdout",
     "output_type": "stream",
     "text": [
      "52.572\n",
      "60.7\n"
     ]
    }
   ],
   "source": [
    "wins = 0; loses = 0;\n",
    "n = 500\n",
    "for i in range(n):\n",
    "    for ser in series:\n",
    "        for i in range(1, len(ser)):\n",
    "            if (lihack(ser[i-1][::-1]) - ser[i][0]) % 3 == 1:\n",
    "                loses += 1\n",
    "            if (lihack(ser[i-1][::-1]) - ser[i][0]) % 3 == 2:\n",
    "                wins += 1\n",
    "                \n",
    "print(wins/n);print(loses/n)"
   ]
  },
  {
   "cell_type": "markdown",
   "metadata": {},
   "source": [
    "Метод не работает"
   ]
  },
  {
   "cell_type": "markdown",
   "metadata": {},
   "source": [
    "##### Бот на основе \"слабого\" алгоритма, описанного выше"
   ]
  },
  {
   "cell_type": "code",
   "execution_count": null,
   "metadata": {},
   "outputs": [],
   "source": [
    "print('Введите к, н или б'); wins = 0; loses = 0;games = 0;\n",
    "\n",
    "bot_turn = list(stat.multinomial(1, [1/3,1/3,1/3]).rvs()[0]).index(1)\n",
    "A = get_num(input().split()[0])\n",
    "print(\"Бот показал\", get_letter(bot_turn), end = '; ')\n",
    "\n",
    "if ((A - bot_turn) % 3 == 1):\n",
    "    loses += 1;\n",
    "    print(\"Вы проиграли\")\n",
    "\n",
    "if ((A - bot_turn) % 3 == 2):\n",
    "    wins += 1;\n",
    "    print(\"Вы выиграли!\")\n",
    "    \n",
    "if ((A - bot_turn) % 3 == 0):\n",
    "    print(\"Ничья!\")\n",
    "\n",
    "pr_turn = (bot_turn, A)\n",
    "print('Введите к, н или б')\n",
    "while games < 41:\n",
    "    bot_turn = lihack(pr_turn)\n",
    "    A =  input().split()\n",
    "    \n",
    "    if (len(A) > 1 or not A):\n",
    "        print('Неверный ввод, попробуйте еще раз')\n",
    "        continue\n",
    "    if not (A[0] =='к' or A[0] == 'н' or A[0] == 'б'):\n",
    "        print('Неверный ввод, попробуйте еще раз')\n",
    "        continue\n",
    "        \n",
    "    A = get_num(A[0])\n",
    "    \n",
    "    print(\"Бот показал\", get_letter(bot_turn), end = '; ')\n",
    "    if ((A - bot_turn) % 3 == 1):\n",
    "        loses += 1;\n",
    "        print(\"Вы проиграли\")\n",
    "\n",
    "    if ((A - bot_turn) % 3 == 2):\n",
    "        wins += 1;\n",
    "        print(\"Вы выиграли!\")\n",
    "\n",
    "    if ((A - bot_turn) % 3 == 0):\n",
    "        print(\"Ничья!\")\n",
    "\n",
    "    pr_turn = (bot_turn, A)\n",
    "    games += 1\n",
    "    \n",
    "print('Побед:', wins, 'Поражений:', loses)"
   ]
  }
 ],
 "metadata": {
  "kernelspec": {
   "display_name": "Python 3",
   "language": "python",
   "name": "python3"
  },
  "language_info": {
   "codemirror_mode": {
    "name": "ipython",
    "version": 3
   },
   "file_extension": ".py",
   "mimetype": "text/x-python",
   "name": "python",
   "nbconvert_exporter": "python",
   "pygments_lexer": "ipython3",
   "version": "3.8.3"
  }
 },
 "nbformat": 4,
 "nbformat_minor": 4
}
